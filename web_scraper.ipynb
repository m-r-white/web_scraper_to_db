{
 "cells": [
  {
   "cell_type": "markdown",
   "metadata": {},
   "source": [
    "## Web scraper"
   ]
  },
  {
   "cell_type": "code",
   "execution_count": 1,
   "metadata": {},
   "outputs": [],
   "source": [
    "# imports; requests and BeautifulSoup for web scraping, Pandas and regex for data manipulation\n",
    "import requests\n",
    "from bs4 import BeautifulSoup as bs\n",
    "import pandas as pd\n",
    "import re\n",
    "\n",
    "# set Pandas option: do not truncate when displaying data\n",
    "pd.set_option('display.max_colwidth', -1)"
   ]
  },
  {
   "cell_type": "code",
   "execution_count": null,
   "metadata": {},
   "outputs": [],
   "source": [
    "# downlaod htmls\n",
    "\n",
    "urls = 'https://socialblade.com/instagram/compare/mariobadescu/firstaidbeauty'\n",
    "terms = []\n",
    "\n",
    "def download_htmls(urls, terms):\n",
    "    r = requests.get(urls)\n",
    "    soup = bs(r.text, 'lxml')\n",
    "    return soup\n",
    "\n",
    "# edit list of brands here\n",
    "# find better way to iterate without compare\n",
    "# brands = ('mariobadescu', 'firstaidbeauty') use in .format()\n",
    "\n",
    "download_htmls(urls, terms)\n",
    "#test here:\n",
    "#print(soup.prettify())"
   ]
  },
  {
   "cell_type": "code",
   "execution_count": null,
   "metadata": {},
   "outputs": [],
   "source": [
    "# locate and extract CSV's from html\n",
    "\n",
    "datapoints = ['year', 'month', 'day', 'subscribers', 'videoviews', 'dailysubscribers', 'dailyvideoviews', 'futuresubs', 'futureviews']\n",
    "df1 = pd.DataFrame(columns=datapoints) \n",
    "graphs = datapoints[3:]\n",
    "dict_rows = []\n",
    "\n",
    "for each_point in graphs:\n",
    "    data_string = repr(soup.find('div', {'id': '{}YTDYGraph'.format(each_point)}))\n",
    "    split1 = data_string.split('CSV or path to a CSV file.\\r\\n')[1] # parsing\n",
    "    split2 = split1.split('\\\\n') \n",
    "    for i in split2: \n",
    "        row = re.findall(r'\\d+', i)\n",
    "        dict_rows.append(row)\n",
    "        # append row to df1\n",
    "return dict"
   ]
  },
  {
   "cell_type": "code",
   "execution_count": null,
   "metadata": {},
   "outputs": [],
   "source": [
    "df1 = pd.DataFrame([dict_rows])"
   ]
  },
  {
   "cell_type": "code",
   "execution_count": null,
   "metadata": {},
   "outputs": [],
   "source": [
    "df1.T"
   ]
  },
  {
   "cell_type": "code",
   "execution_count": null,
   "metadata": {},
   "outputs": [],
   "source": [
    "shortlist.loc[]"
   ]
  },
  {
   "cell_type": "code",
   "execution_count": null,
   "metadata": {},
   "outputs": [],
   "source": [
    "index = pd.DatetimeIndex(dict_rows[:][:3])"
   ]
  },
  {
   "cell_type": "code",
   "execution_count": null,
   "metadata": {},
   "outputs": [],
   "source": [
    "# create timeseries index\n",
    "for i in dict_rows:\n",
    "    print(i[:3])"
   ]
  },
  {
   "cell_type": "code",
   "execution_count": null,
   "metadata": {},
   "outputs": [],
   "source": [
    "soup.title.string"
   ]
  }
 ],
 "metadata": {
  "kernelspec": {
   "display_name": "Python 3",
   "language": "python",
   "name": "python3"
  },
  "language_info": {
   "codemirror_mode": {
    "name": "ipython",
    "version": 3
   },
   "file_extension": ".py",
   "mimetype": "text/x-python",
   "name": "python",
   "nbconvert_exporter": "python",
   "pygments_lexer": "ipython3",
   "version": "3.5.3"
  }
 },
 "nbformat": 4,
 "nbformat_minor": 2
}
